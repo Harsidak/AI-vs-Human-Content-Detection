{
 "cells": [
  {
   "cell_type": "code",
   "execution_count": 1,
   "id": "ea70e190",
   "metadata": {
    "_cell_guid": "b1076dfc-b9ad-4769-8c92-a6c4dae69d19",
    "_uuid": "8f2839f25d086af736a60e9eeb907d3b93b6e0e5",
    "execution": {
     "iopub.execute_input": "2025-10-24T04:59:15.479207Z",
     "iopub.status.busy": "2025-10-24T04:59:15.478951Z",
     "iopub.status.idle": "2025-10-24T04:59:38.295363Z",
     "shell.execute_reply": "2025-10-24T04:59:38.294453Z"
    },
    "papermill": {
     "duration": 22.825739,
     "end_time": "2025-10-24T04:59:38.296820",
     "exception": false,
     "start_time": "2025-10-24T04:59:15.471081",
     "status": "completed"
    },
    "tags": []
   },
   "outputs": [
    {
     "name": "stderr",
     "output_type": "stream",
     "text": [
      "2025-10-24 04:59:27.444583: E external/local_xla/xla/stream_executor/cuda/cuda_fft.cc:477] Unable to register cuFFT factory: Attempting to register factory for plugin cuFFT when one has already been registered\n",
      "WARNING: All log messages before absl::InitializeLog() is called are written to STDERR\n",
      "E0000 00:00:1761281967.639781      19 cuda_dnn.cc:8310] Unable to register cuDNN factory: Attempting to register factory for plugin cuDNN when one has already been registered\n",
      "E0000 00:00:1761281967.694331      19 cuda_blas.cc:1418] Unable to register cuBLAS factory: Attempting to register factory for plugin cuBLAS when one has already been registered\n"
     ]
    },
    {
     "name": "stdout",
     "output_type": "stream",
     "text": [
      "File Import and setup done Successfully FILE PATH:/kaggle/input/ai-vs-human-text/AI_Human.csv\n"
     ]
    },
    {
     "name": "stderr",
     "output_type": "stream",
     "text": [
      "[nltk_data] Downloading package stopwords to /usr/share/nltk_data...\n",
      "[nltk_data]   Package stopwords is already up-to-date!\n",
      "[nltk_data] Downloading package punkt to /usr/share/nltk_data...\n",
      "[nltk_data]   Package punkt is already up-to-date!\n",
      "[nltk_data] Downloading package wordnet to /usr/share/nltk_data...\n",
      "[nltk_data]   Package wordnet is already up-to-date!\n"
     ]
    }
   ],
   "source": [
    "import numpy as np \n",
    "import pandas as pd \n",
    "import seaborn as sns \n",
    "import matplotlib.pyplot as plt \n",
    "from sklearn.utils import resample\n",
    "from sklearn.model_selection import train_test_split\n",
    "import re\n",
    "from textblob import TextBlob\n",
    "import nltk\n",
    "from nltk.corpus import stopwords\n",
    "from nltk.stem import WordNetLemmatizer\n",
    "import torch\n",
    "import spacy\n",
    "from tensorflow.keras.preprocessing.text import Tokenizer\n",
    "from tensorflow.keras.preprocessing.sequence import pad_sequences\n",
    "nltk.download('stopwords')\n",
    "nltk.download('punkt')\n",
    "nltk.download('wordnet')\n",
    "import os\n",
    "for dirname, _, filenames in os.walk('/kaggle/input'):\n",
    "    for filename in filenames:\n",
    "        print(f\"File Import and setup done Successfully FILE PATH:{os.path.join(dirname, filename)}\")\n",
    "        "
   ]
  },
  {
   "cell_type": "markdown",
   "id": "91a8eea7",
   "metadata": {
    "papermill": {
     "duration": 0.005675,
     "end_time": "2025-10-24T04:59:38.316573",
     "exception": false,
     "start_time": "2025-10-24T04:59:38.310898",
     "status": "completed"
    },
    "tags": []
   },
   "source": [
    "# Loading the Data set"
   ]
  },
  {
   "cell_type": "code",
   "execution_count": 2,
   "id": "1544b9e3",
   "metadata": {
    "execution": {
     "iopub.execute_input": "2025-10-24T04:59:38.329586Z",
     "iopub.status.busy": "2025-10-24T04:59:38.328861Z",
     "iopub.status.idle": "2025-10-24T05:00:06.870303Z",
     "shell.execute_reply": "2025-10-24T05:00:06.868465Z"
    },
    "papermill": {
     "duration": 28.549886,
     "end_time": "2025-10-24T05:00:06.872153",
     "exception": false,
     "start_time": "2025-10-24T04:59:38.322267",
     "status": "completed"
    },
    "tags": []
   },
   "outputs": [
    {
     "data": {
      "text/html": [
       "<div>\n",
       "<style scoped>\n",
       "    .dataframe tbody tr th:only-of-type {\n",
       "        vertical-align: middle;\n",
       "    }\n",
       "\n",
       "    .dataframe tbody tr th {\n",
       "        vertical-align: top;\n",
       "    }\n",
       "\n",
       "    .dataframe thead th {\n",
       "        text-align: right;\n",
       "    }\n",
       "</style>\n",
       "<table border=\"1\" class=\"dataframe\">\n",
       "  <thead>\n",
       "    <tr style=\"text-align: right;\">\n",
       "      <th></th>\n",
       "      <th>text</th>\n",
       "      <th>generated</th>\n",
       "    </tr>\n",
       "  </thead>\n",
       "  <tbody>\n",
       "    <tr>\n",
       "      <th>0</th>\n",
       "      <td>Cars. Cars have been around since they became ...</td>\n",
       "      <td>0.0</td>\n",
       "    </tr>\n",
       "    <tr>\n",
       "      <th>1</th>\n",
       "      <td>Transportation is a large necessity in most co...</td>\n",
       "      <td>0.0</td>\n",
       "    </tr>\n",
       "    <tr>\n",
       "      <th>2</th>\n",
       "      <td>\"America's love affair with it's vehicles seem...</td>\n",
       "      <td>0.0</td>\n",
       "    </tr>\n",
       "    <tr>\n",
       "      <th>3</th>\n",
       "      <td>How often do you ride in a car? Do you drive a...</td>\n",
       "      <td>0.0</td>\n",
       "    </tr>\n",
       "    <tr>\n",
       "      <th>4</th>\n",
       "      <td>Cars are a wonderful thing. They are perhaps o...</td>\n",
       "      <td>0.0</td>\n",
       "    </tr>\n",
       "  </tbody>\n",
       "</table>\n",
       "</div>"
      ],
      "text/plain": [
       "                                                text  generated\n",
       "0  Cars. Cars have been around since they became ...        0.0\n",
       "1  Transportation is a large necessity in most co...        0.0\n",
       "2  \"America's love affair with it's vehicles seem...        0.0\n",
       "3  How often do you ride in a car? Do you drive a...        0.0\n",
       "4  Cars are a wonderful thing. They are perhaps o...        0.0"
      ]
     },
     "execution_count": 2,
     "metadata": {},
     "output_type": "execute_result"
    }
   ],
   "source": [
    "DataSet = pd.read_csv('/kaggle/input/ai-vs-human-text/AI_Human.csv')\n",
    "DataSet.head()"
   ]
  },
  {
   "cell_type": "markdown",
   "id": "edfa780d",
   "metadata": {
    "papermill": {
     "duration": 0.006543,
     "end_time": "2025-10-24T05:00:06.891321",
     "exception": false,
     "start_time": "2025-10-24T05:00:06.884778",
     "status": "completed"
    },
    "tags": []
   },
   "source": [
    "# Getting the information from the DataSet "
   ]
  },
  {
   "cell_type": "code",
   "execution_count": 3,
   "id": "74c63e7f",
   "metadata": {
    "execution": {
     "iopub.execute_input": "2025-10-24T05:00:06.908016Z",
     "iopub.status.busy": "2025-10-24T05:00:06.907237Z",
     "iopub.status.idle": "2025-10-24T05:00:06.938718Z",
     "shell.execute_reply": "2025-10-24T05:00:06.938036Z"
    },
    "papermill": {
     "duration": 0.041369,
     "end_time": "2025-10-24T05:00:06.939950",
     "exception": false,
     "start_time": "2025-10-24T05:00:06.898581",
     "status": "completed"
    },
    "tags": []
   },
   "outputs": [
    {
     "data": {
      "text/html": [
       "<div>\n",
       "<style scoped>\n",
       "    .dataframe tbody tr th:only-of-type {\n",
       "        vertical-align: middle;\n",
       "    }\n",
       "\n",
       "    .dataframe tbody tr th {\n",
       "        vertical-align: top;\n",
       "    }\n",
       "\n",
       "    .dataframe thead th {\n",
       "        text-align: right;\n",
       "    }\n",
       "</style>\n",
       "<table border=\"1\" class=\"dataframe\">\n",
       "  <thead>\n",
       "    <tr style=\"text-align: right;\">\n",
       "      <th></th>\n",
       "      <th>generated</th>\n",
       "    </tr>\n",
       "  </thead>\n",
       "  <tbody>\n",
       "    <tr>\n",
       "      <th>count</th>\n",
       "      <td>487235.000000</td>\n",
       "    </tr>\n",
       "    <tr>\n",
       "      <th>mean</th>\n",
       "      <td>0.372383</td>\n",
       "    </tr>\n",
       "    <tr>\n",
       "      <th>std</th>\n",
       "      <td>0.483440</td>\n",
       "    </tr>\n",
       "    <tr>\n",
       "      <th>min</th>\n",
       "      <td>0.000000</td>\n",
       "    </tr>\n",
       "    <tr>\n",
       "      <th>25%</th>\n",
       "      <td>0.000000</td>\n",
       "    </tr>\n",
       "    <tr>\n",
       "      <th>50%</th>\n",
       "      <td>0.000000</td>\n",
       "    </tr>\n",
       "    <tr>\n",
       "      <th>75%</th>\n",
       "      <td>1.000000</td>\n",
       "    </tr>\n",
       "    <tr>\n",
       "      <th>max</th>\n",
       "      <td>1.000000</td>\n",
       "    </tr>\n",
       "  </tbody>\n",
       "</table>\n",
       "</div>"
      ],
      "text/plain": [
       "           generated\n",
       "count  487235.000000\n",
       "mean        0.372383\n",
       "std         0.483440\n",
       "min         0.000000\n",
       "25%         0.000000\n",
       "50%         0.000000\n",
       "75%         1.000000\n",
       "max         1.000000"
      ]
     },
     "execution_count": 3,
     "metadata": {},
     "output_type": "execute_result"
    }
   ],
   "source": [
    "DataSet.describe()"
   ]
  },
  {
   "cell_type": "code",
   "execution_count": 4,
   "id": "87a759fd",
   "metadata": {
    "execution": {
     "iopub.execute_input": "2025-10-24T05:00:06.953087Z",
     "iopub.status.busy": "2025-10-24T05:00:06.952857Z",
     "iopub.status.idle": "2025-10-24T05:00:09.959432Z",
     "shell.execute_reply": "2025-10-24T05:00:09.958633Z"
    },
    "papermill": {
     "duration": 3.014558,
     "end_time": "2025-10-24T05:00:09.960618",
     "exception": false,
     "start_time": "2025-10-24T05:00:06.946060",
     "status": "completed"
    },
    "tags": []
   },
   "outputs": [
    {
     "name": "stdout",
     "output_type": "stream",
     "text": [
      "\n",
      "Columns(Names) in the DataSet Index(['text', 'generated'], dtype='object')\n",
      "Missing values in the DataSet text         0\n",
      "generated    0\n",
      "dtype: int64\n",
      "Unique values in the DataSet text         487235\n",
      "generated         2\n",
      "dtype: int64\n",
      "\n"
     ]
    }
   ],
   "source": [
    "print(f\"\"\"\n",
    "Columns(Names) in the DataSet {DataSet.columns}\n",
    "Missing values in the DataSet {DataSet.isnull().sum()}\n",
    "Unique values in the DataSet {DataSet.nunique()}\n",
    "\"\"\")"
   ]
  },
  {
   "cell_type": "code",
   "execution_count": 5,
   "id": "14c1425a",
   "metadata": {
    "execution": {
     "iopub.execute_input": "2025-10-24T05:00:09.973820Z",
     "iopub.status.busy": "2025-10-24T05:00:09.973538Z",
     "iopub.status.idle": "2025-10-24T05:00:09.989454Z",
     "shell.execute_reply": "2025-10-24T05:00:09.988722Z"
    },
    "papermill": {
     "duration": 0.023708,
     "end_time": "2025-10-24T05:00:09.990645",
     "exception": false,
     "start_time": "2025-10-24T05:00:09.966937",
     "status": "completed"
    },
    "tags": []
   },
   "outputs": [
    {
     "name": "stdout",
     "output_type": "stream",
     "text": [
      "Human generated content: 305797 in percentage 62.76% of the DataSet is Human content\n",
      "AI generated content: 181438 in percentage 37.24% of the DataSet is Human content \n"
     ]
    }
   ],
   "source": [
    "Human_Content = (DataSet['generated'] == 0).sum()\n",
    "AI_Content = (DataSet['generated'] == 1).sum()\n",
    "\n",
    "percentages = DataSet['generated'].value_counts(normalize=True) * 100\n",
    "human_pct = percentages.get(0, 0)\n",
    "ai_pct = percentages.get(1, 0)\n",
    "\n",
    "print(f\"Human generated content: {Human_Content} in percentage { human_pct:.2f}% of the DataSet is Human content\")\n",
    "print(f\"AI generated content: {AI_Content} in percentage { ai_pct:.2f}% of the DataSet is Human content \")\n"
   ]
  },
  {
   "cell_type": "code",
   "execution_count": 6,
   "id": "8caa2038",
   "metadata": {
    "execution": {
     "iopub.execute_input": "2025-10-24T05:00:10.003362Z",
     "iopub.status.busy": "2025-10-24T05:00:10.003147Z",
     "iopub.status.idle": "2025-10-24T05:00:10.207681Z",
     "shell.execute_reply": "2025-10-24T05:00:10.206919Z"
    },
    "papermill": {
     "duration": 0.212227,
     "end_time": "2025-10-24T05:00:10.209004",
     "exception": false,
     "start_time": "2025-10-24T05:00:09.996777",
     "status": "completed"
    },
    "tags": []
   },
   "outputs": [
    {
     "data": {
      "image/png": "[encoded data removed]",
      "text/plain": [
       "<Figure size 640x480 with 1 Axes>"
      ]
     },
     "metadata": {},
     "output_type": "display_data"
    }
   ],
   "source": [
    "sns.countplot(data=DataSet,x='generated')\n",
    "xlabel='generated'\n",
    "ylabel='count'"
   ]
  },
  {
   "cell_type": "markdown",
   "id": "852b69fb",
   "metadata": {
    "papermill": {
     "duration": 0.006012,
     "end_time": "2025-10-24T05:00:10.221551",
     "exception": false,
     "start_time": "2025-10-24T05:00:10.215539",
     "status": "completed"
    },
    "tags": []
   },
   "source": [
    "# Pre-Processing the DataSet "
   ]
  },
  {
   "cell_type": "code",
   "execution_count": 7,
   "id": "b9300e90",
   "metadata": {
    "execution": {
     "iopub.execute_input": "2025-10-24T05:00:10.234633Z",
     "iopub.status.busy": "2025-10-24T05:00:10.234421Z",
     "iopub.status.idle": "2025-10-24T05:00:10.270207Z",
     "shell.execute_reply": "2025-10-24T05:00:10.269612Z"
    },
    "papermill": {
     "duration": 0.043825,
     "end_time": "2025-10-24T05:00:10.271436",
     "exception": false,
     "start_time": "2025-10-24T05:00:10.227611",
     "status": "completed"
    },
    "tags": []
   },
   "outputs": [],
   "source": [
    "human = DataSet[DataSet['generated'] == 0]\n",
    "ai = DataSet[DataSet['generated'] == 1]"
   ]
  },
  {
   "cell_type": "code",
   "execution_count": 8,
   "id": "d2da0100",
   "metadata": {
    "execution": {
     "iopub.execute_input": "2025-10-24T05:00:10.285643Z",
     "iopub.status.busy": "2025-10-24T05:00:10.285121Z",
     "iopub.status.idle": "2025-10-24T05:00:10.302795Z",
     "shell.execute_reply": "2025-10-24T05:00:10.301892Z"
    },
    "papermill": {
     "duration": 0.02593,
     "end_time": "2025-10-24T05:00:10.303922",
     "exception": false,
     "start_time": "2025-10-24T05:00:10.277992",
     "status": "completed"
    },
    "tags": []
   },
   "outputs": [
    {
     "name": "stdout",
     "output_type": "stream",
     "text": [
      "Human Content Content:\n",
      "Do curfews keep teenagers from Getting into trouble? The city council is still currently debating on either adopting the curfew to be at 10 p. m. during the week days or at midnight on the weekends. If teenagers were to be out after the hours selected, it would be considered breaking the law. The laws are choose for many reasons, even if we don't tree with most of them; we have to obey the laws. I believe the city council should adopt the curfew for the minors. When it comes to under ate people in this world we have to be more concerned for their safety, it is best to have curfews. We should consider all the dangerous things Point on in this world.\n",
      "\n",
      "Have you considered all the things that could happen when your child is out? There is many dangerous things Point on in this world. I'm not saying something will happen but honestly nowadays anything could happen. Without an adults care vision many things could occur. Many minors are band killed or harmed for reasons we don't know. A curfew is one way from preventing those things from happening to your children. Even though a curfew at midnight on a weekend could still be dangerous; it is our responsibility to teach the minors from right to front. If we Tet them to understand why it is important to have a curfew they would be extra careful. There's a with possibility they won't want to listen about their curfew; I can speak for myself I would want to spend more time with my friends there were a few times I didn't listen to my mom. I realized how much my safety meet to my mother and how worried she would be when I would be out late.\n",
      "\n",
      "Have you heard about what happened to Generic_Name in New York? He was such a Good child. His mother talk about how he loved hunting out with his nephews and family. She said he wouldn't To out with friends, he would always be home. He was very close to his sister, they'd always be together. Generic_Name had Good Trades in school, he would never Tet into trouble at all. The reason I bring his story life into this essay is because he was killed a few blocks away from is house, outside a little food market. I'm not so sure about the time, but it was after dark. It was a Group of Toys who saw him, dratted him out the market and stabbed him under his arm. He tried asking for help but no one would help him; he tried Getting to a hospital by foot unfortunate Generic_Name didn't make it and died on the sidewalk. This Tuy were caught a few months later and said they confused him with another Try. Generic_Name had no fault in any of it, he didn't deserve it. Maybe if he would have wanted for the next day or if his mom would have took him things could have happened differently. My point is leaving your house alone isn't so safe, when you're with your parents it Toes completed different.\n",
      "\n",
      "Some people might think they would Time the freedom they wanted as a child to their children. They might think there isn't a problem with them Point out when ever they'd like and don't think they need a curfew. Everyone wants to enjoy their life and live it fully. Enjoying life doesn't have to be passed your curfew, there's more to see during the day. Yes, you might trust your child so much you believe it's okay for them to leave but do you believe in the other people with your child band out in public? During day is much more safe than at night time when it's dark. One reason band is because of how many people are out during the day. You could scream for help, run or Time signs of band in danger. At night everyone is sleeping, and barely anyone is around.\n",
      "\n",
      "In conclusion, the city council should think about the things Point on in this world and do what's best for the teenagers, which is to have a curfew. Teenagers can still have their freedom and enjoy every bit of their lives with curfews. I think it would be for the best; everyone would be safe in that way. Almost everyone can tree that their minors safety is important. Curfews would also keep teenagers from Getting into trouble.\n",
      "AI Content:\n",
      " I believe that online classes and video conferencing are beneficial For students, especially those who Dace challenges such as transportation issues or bullying. In today's world, students often prefer online classes because they can access their education From the comfort OD their own home. This eliminates the distractions and pressures OD the traditional classroom environment, allowing students to work at their own pace and on their own schedule.\n",
      "\n",
      "For example, my Friend struggled with transportation issues and Found it difficult to attend classes on time. However, when he started taking online classes, he was able to manage his time more effectively and complete his work without any distractions. Additionally, video conferencing has become an increasingly popular option For students, as it allows them to interact with their teachers and peers in a virtual environment.\n",
      "\n",
      "Online classes and video conferencing also provide a Sade and supportive environment For students who have been bullied in school. They can learn and grow without the Dear OD being harassed or intimidated by their peers. This can be especially important For students who may not have access to other Dorms OD support or resources.\n",
      "\n",
      "In conclusion, I believe that online classes and video conferencing are valuable tools that can benefit students in many ways. They provide Flexibility, convenience, and a supportive learning environment that can help students achieve their academic goals. While there may be some drawbacks to online learning, the benefits DAR outweigh the challenges Dorm any students.\n"
     ]
    }
   ],
   "source": [
    "print(\"Human Content Content:\")\n",
    "print(human.sample(n=1, random_state=42)['text'].values[0]) \n",
    "print(\"AI Content:\")\n",
    "print(ai.sample(n=1, random_state=42)['text'].values[0]) \n"
   ]
  },
  {
   "cell_type": "markdown",
   "id": "796635b3",
   "metadata": {
    "papermill": {
     "duration": 0.00622,
     "end_time": "2025-10-24T05:00:10.316618",
     "exception": false,
     "start_time": "2025-10-24T05:00:10.310398",
     "status": "completed"
    },
    "tags": []
   },
   "source": [
    " Lowercasing the Text"
   ]
  },
  {
   "cell_type": "code",
   "execution_count": 9,
   "id": "fa2b1ae9",
   "metadata": {
    "execution": {
     "iopub.execute_input": "2025-10-24T05:00:10.330361Z",
     "iopub.status.busy": "2025-10-24T05:00:10.329656Z",
     "iopub.status.idle": "2025-10-24T05:00:14.109186Z",
     "shell.execute_reply": "2025-10-24T05:00:14.108404Z"
    },
    "papermill": {
     "duration": 3.787463,
     "end_time": "2025-10-24T05:00:14.110344",
     "exception": false,
     "start_time": "2025-10-24T05:00:10.322881",
     "status": "completed"
    },
    "tags": []
   },
   "outputs": [
    {
     "name": "stdout",
     "output_type": "stream",
     "text": [
      "Data succesfuly lowecased\n"
     ]
    }
   ],
   "source": [
    "def lowercase_text(text):\n",
    "    return text.lower()\n",
    "DataSet['processed_text'] = DataSet['text'].apply(lowercase_text)\n",
    "print(\"Data succesfuly lowecased\")"
   ]
  },
  {
   "cell_type": "markdown",
   "id": "ea7d0c33",
   "metadata": {
    "papermill": {
     "duration": 0.006174,
     "end_time": "2025-10-24T05:00:14.123086",
     "exception": false,
     "start_time": "2025-10-24T05:00:14.116912",
     "status": "completed"
    },
    "tags": []
   },
   "source": [
    "Punctuation Removal"
   ]
  },
  {
   "cell_type": "code",
   "execution_count": 10,
   "id": "ef910a3e",
   "metadata": {
    "execution": {
     "iopub.execute_input": "2025-10-24T05:00:14.136312Z",
     "iopub.status.busy": "2025-10-24T05:00:14.136104Z",
     "iopub.status.idle": "2025-10-24T05:01:50.848123Z",
     "shell.execute_reply": "2025-10-24T05:01:50.847263Z"
    },
    "papermill": {
     "duration": 96.726291,
     "end_time": "2025-10-24T05:01:50.855505",
     "exception": false,
     "start_time": "2025-10-24T05:00:14.129214",
     "status": "completed"
    },
    "tags": []
   },
   "outputs": [
    {
     "name": "stdout",
     "output_type": "stream",
     "text": [
      "Punctuation succesfully removed from the data\n"
     ]
    }
   ],
   "source": [
    "import re\n",
    "\n",
    "def clean_text(text):\n",
    "    text = re.sub(r'http\\S+', '', text)       \n",
    "    text = re.sub(r'\\d+', '', text)           \n",
    "    text = re.sub(r'[^\\w\\s]', '', text)       \n",
    "    text = re.sub(r'\\s+', ' ', text).strip()  \n",
    "    return text\n",
    "DataSet['processed_text'] = DataSet['text'].apply(clean_text)\n",
    "print(\"Punctuation succesfully removed from the data\")"
   ]
  },
  {
   "cell_type": "markdown",
   "id": "08fd2679",
   "metadata": {
    "papermill": {
     "duration": 0.006397,
     "end_time": "2025-10-24T05:01:50.868656",
     "exception": false,
     "start_time": "2025-10-24T05:01:50.862259",
     "status": "completed"
    },
    "tags": []
   },
   "source": [
    " Spell Check \n",
    "**Caution** it is slower(so I didn't did it)"
   ]
  },
  {
   "cell_type": "code",
   "execution_count": 11,
   "id": "6ebdc64a",
   "metadata": {
    "execution": {
     "iopub.execute_input": "2025-10-24T05:01:50.883261Z",
     "iopub.status.busy": "2025-10-24T05:01:50.882656Z",
     "iopub.status.idle": "2025-10-24T05:01:50.886321Z",
     "shell.execute_reply": "2025-10-24T05:01:50.885586Z"
    },
    "papermill": {
     "duration": 0.012143,
     "end_time": "2025-10-24T05:01:50.887515",
     "exception": false,
     "start_time": "2025-10-24T05:01:50.875372",
     "status": "completed"
    },
    "tags": []
   },
   "outputs": [],
   "source": [
    "# from spellchecker import SpellChecker\n",
    "# spell = SpellChecker()\n",
    "\n",
    "# def fast_spell_correct(text):\n",
    "#     tokens = text.split()\n",
    "#     corrected = []\n",
    "#     for word in tokens:\n",
    "#         corrected_word = spell.correction(word)\n",
    "#         # If correction is None, keep original\n",
    "#         if corrected_word is None:\n",
    "#             corrected_word = word\n",
    "#         corrected.append(corrected_word)\n",
    "#     return ' '.join(corrected)\n",
    "\n",
    "    \n",
    "# DataSet['processed_text'] = DataSet['text'].apply(fast_spell_correct)\n",
    "# print(\"Spell check succesfull\")"
   ]
  },
  {
   "cell_type": "markdown",
   "id": "b8c358f1",
   "metadata": {
    "papermill": {
     "duration": 0.006116,
     "end_time": "2025-10-24T05:01:50.899994",
     "exception": false,
     "start_time": "2025-10-24T05:01:50.893878",
     "status": "completed"
    },
    "tags": []
   },
   "source": [
    "Tokenization"
   ]
  },
  {
   "cell_type": "code",
   "execution_count": 12,
   "id": "8e125cc5",
   "metadata": {
    "execution": {
     "iopub.execute_input": "2025-10-24T05:01:50.913841Z",
     "iopub.status.busy": "2025-10-24T05:01:50.913181Z",
     "iopub.status.idle": "2025-10-24T05:02:16.227432Z",
     "shell.execute_reply": "2025-10-24T05:02:16.226713Z"
    },
    "papermill": {
     "duration": 25.322406,
     "end_time": "2025-10-24T05:02:16.228600",
     "exception": false,
     "start_time": "2025-10-24T05:01:50.906194",
     "status": "completed"
    },
    "tags": []
   },
   "outputs": [
    {
     "name": "stdout",
     "output_type": "stream",
     "text": [
      "Tokenisation of the data was successful\n"
     ]
    }
   ],
   "source": [
    "def tokenize_text(text):\n",
    "    return text.split()\n",
    "DataSet['processed_text'] = DataSet['text'].apply(tokenize_text)\n",
    "print(\"Tokenisation of the data was successful\")"
   ]
  },
  {
   "cell_type": "markdown",
   "id": "70236dc6",
   "metadata": {
    "papermill": {
     "duration": 0.00633,
     "end_time": "2025-10-24T05:02:16.241729",
     "exception": false,
     "start_time": "2025-10-24T05:02:16.235399",
     "status": "completed"
    },
    "tags": []
   },
   "source": [
    "Stopword removal"
   ]
  },
  {
   "cell_type": "code",
   "execution_count": 13,
   "id": "59285b7d",
   "metadata": {
    "execution": {
     "iopub.execute_input": "2025-10-24T05:02:16.255345Z",
     "iopub.status.busy": "2025-10-24T05:02:16.254767Z",
     "iopub.status.idle": "2025-10-24T05:03:22.194227Z",
     "shell.execute_reply": "2025-10-24T05:03:22.193407Z"
    },
    "papermill": {
     "duration": 65.95438,
     "end_time": "2025-10-24T05:03:22.202281",
     "exception": false,
     "start_time": "2025-10-24T05:02:16.247901",
     "status": "completed"
    },
    "tags": []
   },
   "outputs": [
    {
     "name": "stdout",
     "output_type": "stream",
     "text": [
      "Stop word removal of the data was successful\n"
     ]
    }
   ],
   "source": [
    "import nltk\n",
    "from nltk.corpus import stopwords\n",
    "# nltk.download('stopwords')\n",
    "stop_words = set(stopwords.words('english'))\n",
    "\n",
    "def remove_stopwords(tokens):\n",
    "    return [word for word in tokens if word not in stop_words]\n",
    "\n",
    "DataSet['processed_text'] = DataSet['text'].apply(remove_stopwords)\n",
    "print(\"Stop word removal of the data was successful\")"
   ]
  },
  {
   "cell_type": "code",
   "execution_count": 14,
   "id": "833d79f2",
   "metadata": {
    "execution": {
     "iopub.execute_input": "2025-10-24T05:03:22.216545Z",
     "iopub.status.busy": "2025-10-24T05:03:22.215974Z",
     "iopub.status.idle": "2025-10-24T05:03:41.053307Z",
     "shell.execute_reply": "2025-10-24T05:03:41.052406Z"
    },
    "papermill": {
     "duration": 18.845802,
     "end_time": "2025-10-24T05:03:41.054624",
     "exception": false,
     "start_time": "2025-10-24T05:03:22.208822",
     "status": "completed"
    },
    "tags": []
   },
   "outputs": [
    {
     "name": "stdout",
     "output_type": "stream",
     "text": [
      "C a r s .   C a r s   h a v e   b e e n   a r o u n d   s i n c e   t h e y   b e c a m e   f a m o u s   i n   t h e   1 9 0 0 s ,   w h e n   H e n r y   F o r d   c r e a t e d   a n d   b u i l t   t h e   f i r s t   M o d e l T .   C a r s   h a v e   p l a y e d   a   m a j o r   r o l e   i n   o u r   e v e r y   d a y   l i v e s   s i n c e   t h e n .   B u t   n o w ,   p e o p l e   a r e   s t a r t i n g   t o   q u e s t i o n   i f   l i m i t i n g   c a r   u s a g e   w o u l d   b e   a   g o o d   t h i n g .   T o   m e ,   l i m i t i n g   t h e   u s e   o f   c a r s   m i g h t   b e   a   g o o d   t h i n g   t o   d o . \n",
      " \n",
      " I n   l i k e   m a t t e r   o f   t h i s ,   a r t i c l e ,   \" I n   G e r m a n   S u b u r b ,   L i f e   G o e s   O n   W i t h o u t   C a r s , \"   b y   E l i z a b e t h   R o s e n t h a l   s t a t e s ,   h o w   a u t o m o b i l e s   a r e   t h e   l i n c h p i n   o f   s u b u r b s ,   w h e r e   m i d d l e   c l a s s   f a m i l i e s   f r o m   e i t h e r   S h a n g h a i   o r   C h i c a g o   t e n d   t o   m a k e   t h e i r   h o m e s .   E x p e r t s   s a y   h o w   t h i s   i s   a   h u g e   i m p e d i m e n t   t o   c u r r e n t   e f f o r t s   t o   r e d u c e   g r e e n h o u s e   g a s   e m i s s i o n s   f r o m   t a i l p i p e .   P a s s e n g e r   c a r s   a r e   r e s p o n s i b l e   f o r   1 2   p e r c e n t   o f   g r e e n h o u s e   g a s   e m i s s i o n s   i n   E u r o p e . . . a n d   u p   t o   5 0   p e r c e n t   i n   s o m e   c a r i n t e n s i v e   a r e a s   i n   t h e   U n i t e d   S t a t e s .   C a r s   a r e   t h e   m a i n   r e a s o n   f o r   t h e   g r e e n h o u s e   g a s   e m i s s i o n s   b e c a u s e   o f   a   l o t   o f   p e o p l e   d r i v i n g   t h e m   a r o u n d   a l l   t h e   t i m e   g e t t i n g   w h e r e   t h e y   n e e d   t o   g o .   A r t i c l e ,   \" P a r i s   b a n s   d r i v i n g   d u e   t o   s m o g , \"   b y   R o b e r t   D u f f e r   s a y s ,   h o w   P a r i s ,   a f t e r   d a y s   o f   n e a r r e c o r d   p o l l u t i o n ,   e n f o r c e d   a   p a r t i a l   d r i v i n g   b a n   t o   c l e a r   t h e   a i r   o f   t h e   g l o b a l   c i t y .   I t   a l s o   s a y s ,   h o w   o n   M o n d a y ,   m o t o r i s t   w i t h   e v e n n u m b e r e d   l i c e n s e   p l a t e s   w e r e   o r d e r e d   t o   l e a v e   t h e i r   c a r s   a t   h o m e   o r   b e   f i n e d   a   2 2 e u r o   f i n e   3 1 .   T h e   s a m e   o r d e r   w o u l d   b e   a p p l i e d   t o   o d d n u m b e r e d   p l a t e s   t h e   f o l l o w i n g   d a y .   C a r s   a r e   t h e   r e a s o n   f o r   p o l l u t i n g   e n t i r e   c i t i e s   l i k e   P a r i s .   T h i s   s h o w s   h o w   b a d   c a r s   c a n   b e   b e c a u s e ,   o f   a l l   t h e   p o l l u t i o n   t h a t   t h e y   c a n   c a u s e   t o   a n   e n t i r e   c i t y . \n",
      " \n",
      " L i k e w i s e ,   i n   t h e   a r t i c l e ,   \" C a r f r e e   d a y   i s   s p i n n i n g   i n t o   a   b i g   h i t   i n   B o g o t a , \"   b y   A n d r e w   S e l s k y   s a y s ,   h o w   p r o g r a m s   t h a t ' s   s e t   t o   s p r e a d   t o   o t h e r   c o u n t r i e s ,   m i l l i o n s   o f   C o l u m b i a n s   h i k e d ,   b i k e d ,   s k a t e d ,   o r   t o o k   t h e   b u s   t o   w o r k   d u r i n g   a   c a r f r e e   d a y ,   l e a v i n g   s t r e e t s   o f   t h i s   c a p i t a l   c i t y   e e r i l y   d e v o i d   o f   t r a f f i c   j a m s .   I t   w a s   t h e   t h i r d   s t r a i g h t   y e a r   c a r s   h a v e   b e e n   b a n n e d   w i t h   o n l y   b u s e s   a n d   t a x i s   p e r m i t t e d   f o r   t h e   D a y   W i t h o u t   C a r s   i n   t h e   c a p i t a l   c i t y   o f   7   m i l l i o n .   P e o p l e   l i k e   t h e   i d e a   o f   h a v i n g   c a r f r e e   d a y s   b e c a u s e ,   i t   a l l o w s   t h e m   t o   l e s s o n   t h e   p o l l u t i o n   t h a t   c a r s   p u t   o u t   o f   t h e i r   e x h a u s t   f r o m   p e o p l e   d r i v i n g   a l l   t h e   t i m e .   T h e   a r t i c l e   a l s o   t e l l s   h o w   p a r k s   a n d   s p o r t s   c e n t e r s   h a v e   b u s t l e d   t h r o u g h o u t   t h e   c i t y   u n e v e n ,   p i t t e d   s i d e w a l k s   h a v e   b e e n   r e p l a c e d   b y   b r o a d ,   s m o o t h   s i d e w a l k s   r u s h h o u r   r e s t r i c t i o n s   h a v e   d r a m a t i c a l l y   c u t   t r a f f i c   a n d   n e w   r e s t a u r a n t s   a n d   u p s c a l e   s h o p p i n g   d i s t r i c t s   h a v e   c r o p p e d   u p .   H a v i n g   n o   c a r s   h a s   b e e n   g o o d   f o r   t h e   c o u n t r y   o f   C o l u m b i a   b e c a u s e ,   i t   h a s   a l o u d   t h e m   t o   r e p a i r   t h i n g s   t h a t   h a v e   n e e d e d   r e p a i r s   f o r   a   l o n g   t i m e ,   t r a f f i c   j a m s   h a v e   g o n e   d o w n ,   a n d   r e s t a u r a n t s   a n d   s h o p p i n g   d i s t r i c t s   h a v e   p o p p e d   u p ,   a l l   d u e   t o   t h e   f a c t   o f   h a v i n g   l e s s   c a r s   a r o u n d . \n",
      " \n",
      " I n   c o n c l u s i o n ,   t h e   u s e   o f   l e s s   c a r s   a n d   h a v i n g   c a r f r e e   d a y s ,   h a v e   h a d   a   b i g   i m p a c t   o n   t h e   e n v i r o n m e n t   o f   c i t i e s   b e c a u s e ,   i t   i s   c u t t i n g   d o w n   t h e   a i r   p o l l u t i o n   t h a t   t h e   c a r s   h a v e   m a j o r l y   p o l l u t e d ,   i t   h a s   a l o u d   c o u n t r i e s   l i k e   C o l u m b i a   t o   r e p a i r   s i d e w a l k s ,   a n d   c u t   d o w n   t r a f f i c   j a m s .   L i m i t i n g   t h e   u s e   o f   c a r s   w o u l d   b e   a   g o o d   t h i n g   f o r   A m e r i c a .   S o   w e   s h o u l d   l i m i t   t h e   u s e   o f   c a r s   b y   m a y b e   r i d i n g   a   b i k e ,   o r   m a y b e   w a l k i n g   s o m e w h e r e   t h a t   i s n ' t   t h a t   f a r   f r o m   y o u   a n d   d o e s n ' t   n e e d   t h e   u s e   o f   a   c a r   t o   g e t   y o u   t h e r e .   T o   m e ,   l i m i t i n g   t h e   u s e   o f   c a r s   m i g h t   b e   a   g o o d   t h i n g   t o   d o .\n"
     ]
    }
   ],
   "source": [
    "\n",
    "def join_tokens(tokens):\n",
    "    return ' '.join(tokens)\n",
    "\n",
    "DataSet['processed_text'] = DataSet['text'].apply(join_tokens)\n",
    "\n",
    "print(DataSet['processed_text'][0])\n"
   ]
  },
  {
   "cell_type": "code",
   "execution_count": 15,
   "id": "a46f219e",
   "metadata": {
    "execution": {
     "iopub.execute_input": "2025-10-24T05:03:41.069839Z",
     "iopub.status.busy": "2025-10-24T05:03:41.069248Z",
     "iopub.status.idle": "2025-10-24T05:05:05.818586Z",
     "shell.execute_reply": "2025-10-24T05:05:05.817746Z"
    },
    "papermill": {
     "duration": 84.758257,
     "end_time": "2025-10-24T05:05:05.820089",
     "exception": false,
     "start_time": "2025-10-24T05:03:41.061832",
     "status": "completed"
    },
    "tags": []
   },
   "outputs": [],
   "source": [
    "# Export the dataset to CSV\n",
    "DataSet.to_csv(\"processed_dataset.csv\", index=False)"
   ]
  },
  {
   "cell_type": "markdown",
   "id": "46f87638",
   "metadata": {
    "papermill": {
     "duration": 0.00646,
     "end_time": "2025-10-24T05:05:05.833636",
     "exception": false,
     "start_time": "2025-10-24T05:05:05.827176",
     "status": "completed"
    },
    "tags": []
   },
   "source": [
    "# Training the Model (First set)"
   ]
  },
  {
   "cell_type": "code",
   "execution_count": 16,
   "id": "32b9d1d4",
   "metadata": {
    "execution": {
     "iopub.execute_input": "2025-10-24T05:05:05.848241Z",
     "iopub.status.busy": "2025-10-24T05:05:05.847538Z",
     "iopub.status.idle": "2025-10-24T05:05:35.886944Z",
     "shell.execute_reply": "2025-10-24T05:05:35.886142Z"
    },
    "papermill": {
     "duration": 30.054281,
     "end_time": "2025-10-24T05:05:35.894577",
     "exception": false,
     "start_time": "2025-10-24T05:05:05.840296",
     "status": "completed"
    },
    "tags": []
   },
   "outputs": [
    {
     "data": {
      "text/html": [
       "<div>\n",
       "<style scoped>\n",
       "    .dataframe tbody tr th:only-of-type {\n",
       "        vertical-align: middle;\n",
       "    }\n",
       "\n",
       "    .dataframe tbody tr th {\n",
       "        vertical-align: top;\n",
       "    }\n",
       "\n",
       "    .dataframe thead th {\n",
       "        text-align: right;\n",
       "    }\n",
       "</style>\n",
       "<table border=\"1\" class=\"dataframe\">\n",
       "  <thead>\n",
       "    <tr style=\"text-align: right;\">\n",
       "      <th></th>\n",
       "      <th>text</th>\n",
       "      <th>generated</th>\n",
       "      <th>processed_text</th>\n",
       "    </tr>\n",
       "  </thead>\n",
       "  <tbody>\n",
       "    <tr>\n",
       "      <th>0</th>\n",
       "      <td>Cars. Cars have been around since they became ...</td>\n",
       "      <td>0.0</td>\n",
       "      <td>C a r s .   C a r s   h a v e   b e e n   a r ...</td>\n",
       "    </tr>\n",
       "    <tr>\n",
       "      <th>1</th>\n",
       "      <td>Transportation is a large necessity in most co...</td>\n",
       "      <td>0.0</td>\n",
       "      <td>T r a n s p o r t a t i o n   i s   a   l a r ...</td>\n",
       "    </tr>\n",
       "    <tr>\n",
       "      <th>2</th>\n",
       "      <td>\"America's love affair with it's vehicles seem...</td>\n",
       "      <td>0.0</td>\n",
       "      <td>\" A m e r i c a ' s   l o v e   a f f a i r   ...</td>\n",
       "    </tr>\n",
       "    <tr>\n",
       "      <th>3</th>\n",
       "      <td>How often do you ride in a car? Do you drive a...</td>\n",
       "      <td>0.0</td>\n",
       "      <td>H o w   o f t e n   d o   y o u   r i d e   i ...</td>\n",
       "    </tr>\n",
       "    <tr>\n",
       "      <th>4</th>\n",
       "      <td>Cars are a wonderful thing. They are perhaps o...</td>\n",
       "      <td>0.0</td>\n",
       "      <td>C a r s   a r e   a   w o n d e r f u l   t h ...</td>\n",
       "    </tr>\n",
       "  </tbody>\n",
       "</table>\n",
       "</div>"
      ],
      "text/plain": [
       "                                                text  generated  \\\n",
       "0  Cars. Cars have been around since they became ...        0.0   \n",
       "1  Transportation is a large necessity in most co...        0.0   \n",
       "2  \"America's love affair with it's vehicles seem...        0.0   \n",
       "3  How often do you ride in a car? Do you drive a...        0.0   \n",
       "4  Cars are a wonderful thing. They are perhaps o...        0.0   \n",
       "\n",
       "                                      processed_text  \n",
       "0  C a r s .   C a r s   h a v e   b e e n   a r ...  \n",
       "1  T r a n s p o r t a t i o n   i s   a   l a r ...  \n",
       "2  \" A m e r i c a ' s   l o v e   a f f a i r   ...  \n",
       "3  H o w   o f t e n   d o   y o u   r i d e   i ...  \n",
       "4  C a r s   a r e   a   w o n d e r f u l   t h ...  "
      ]
     },
     "execution_count": 16,
     "metadata": {},
     "output_type": "execute_result"
    }
   ],
   "source": [
    "ProcessedDataSet = pd.read_csv('/kaggle/working/processed_dataset.csv')\n",
    "ProcessedDataSet.head()"
   ]
  },
  {
   "cell_type": "code",
   "execution_count": 17,
   "id": "9a4dbad3",
   "metadata": {
    "execution": {
     "iopub.execute_input": "2025-10-24T05:05:35.909305Z",
     "iopub.status.busy": "2025-10-24T05:05:35.909077Z",
     "iopub.status.idle": "2025-10-24T05:05:35.987989Z",
     "shell.execute_reply": "2025-10-24T05:05:35.987347Z"
    },
    "papermill": {
     "duration": 0.087712,
     "end_time": "2025-10-24T05:05:35.989343",
     "exception": false,
     "start_time": "2025-10-24T05:05:35.901631",
     "status": "completed"
    },
    "tags": []
   },
   "outputs": [],
   "source": [
    "Data = ProcessedDataSet.copy()\n",
    "Data = Data.drop(columns=['text'])"
   ]
  },
  {
   "cell_type": "code",
   "execution_count": 18,
   "id": "d091a3d6",
   "metadata": {
    "execution": {
     "iopub.execute_input": "2025-10-24T05:05:36.004572Z",
     "iopub.status.busy": "2025-10-24T05:05:36.003956Z",
     "iopub.status.idle": "2025-10-24T05:05:36.053960Z",
     "shell.execute_reply": "2025-10-24T05:05:36.053080Z"
    },
    "papermill": {
     "duration": 0.058884,
     "end_time": "2025-10-24T05:05:36.055350",
     "exception": false,
     "start_time": "2025-10-24T05:05:35.996466",
     "status": "completed"
    },
    "tags": []
   },
   "outputs": [],
   "source": [
    "human_proces= ProcessedDataSet[ProcessedDataSet['generated'] == 0]\n",
    "ai_proces = ProcessedDataSet[ProcessedDataSet['generated'] == 1]"
   ]
  },
  {
   "cell_type": "code",
   "execution_count": 19,
   "id": "8d83f038",
   "metadata": {
    "execution": {
     "iopub.execute_input": "2025-10-24T05:05:36.070641Z",
     "iopub.status.busy": "2025-10-24T05:05:36.070402Z",
     "iopub.status.idle": "2025-10-24T05:05:36.469929Z",
     "shell.execute_reply": "2025-10-24T05:05:36.469101Z"
    },
    "papermill": {
     "duration": 0.408705,
     "end_time": "2025-10-24T05:05:36.471272",
     "exception": false,
     "start_time": "2025-10-24T05:05:36.062567",
     "status": "completed"
    },
    "tags": []
   },
   "outputs": [
    {
     "name": "stdout",
     "output_type": "stream",
     "text": [
      "Balanced data shape: (362876, 3)\n",
      "generated\n",
      "0.0    181438\n",
      "1.0    181438\n",
      "Name: count, dtype: int64\n"
     ]
    }
   ],
   "source": [
    "human_downsampled = human_proces.head(len(ai_proces))\n",
    "\n",
    "balanced = pd.concat([human_downsampled, ai_proces]).sample(frac=1, random_state=42).reset_index(drop=True)\n",
    "\n",
    "print(\"Balanced data shape:\", balanced.shape)\n",
    "print(balanced[\"generated\"].value_counts())\n"
   ]
  },
  {
   "cell_type": "code",
   "execution_count": 20,
   "id": "0547f31b",
   "metadata": {
    "execution": {
     "iopub.execute_input": "2025-10-24T05:05:36.485995Z",
     "iopub.status.busy": "2025-10-24T05:05:36.485763Z",
     "iopub.status.idle": "2025-10-24T05:05:36.633198Z",
     "shell.execute_reply": "2025-10-24T05:05:36.632400Z"
    },
    "papermill": {
     "duration": 0.15609,
     "end_time": "2025-10-24T05:05:36.634584",
     "exception": false,
     "start_time": "2025-10-24T05:05:36.478494",
     "status": "completed"
    },
    "tags": []
   },
   "outputs": [],
   "source": [
    "X = balanced[\"processed_text\"]\n",
    "y = balanced[\"generated\"]\n",
    "\n",
    "X_train, X_test, y_train, y_test = train_test_split(\n",
    "    X, y,\n",
    "    test_size=0.2,\n",
    "    random_state=42,\n",
    "    stratify=y\n",
    ")\n"
   ]
  },
  {
   "cell_type": "code",
   "execution_count": 21,
   "id": "abd873ac",
   "metadata": {
    "execution": {
     "iopub.execute_input": "2025-10-24T05:05:36.649716Z",
     "iopub.status.busy": "2025-10-24T05:05:36.649075Z",
     "iopub.status.idle": "2025-10-24T05:10:03.533161Z",
     "shell.execute_reply": "2025-10-24T05:10:03.532327Z"
    },
    "papermill": {
     "duration": 266.899427,
     "end_time": "2025-10-24T05:10:03.541155",
     "exception": false,
     "start_time": "2025-10-24T05:05:36.641728",
     "status": "completed"
    },
    "tags": []
   },
   "outputs": [
    {
     "name": "stdout",
     "output_type": "stream",
     "text": [
      "Tokenization complete.\n",
      "Training set shape: (290300, 300)\n",
      "Test set shape: (72576, 300)\n"
     ]
    }
   ],
   "source": [
    "tokenizer = Tokenizer(num_words=50000, oov_token=\"<OOV>\")\n",
    "tokenizer.fit_on_texts(X_train)\n",
    "\n",
    "train_sequences = tokenizer.texts_to_sequences(X_train)\n",
    "test_sequences = tokenizer.texts_to_sequences(X_test)\n",
    "\n",
    "maxlen = 300\n",
    "X_train_padded = pad_sequences(train_sequences, maxlen=maxlen, padding='post', truncating='post')\n",
    "X_test_padded = pad_sequences(test_sequences, maxlen=maxlen, padding='post', truncating='post')\n",
    "\n",
    "y_train = np.array(y_train)\n",
    "y_test = np.array(y_test)\n",
    "\n",
    "print(\"Tokenization complete.\")\n",
    "print(\"Training set shape:\", X_train_padded.shape)\n",
    "print(\"Test set shape:\", X_test_padded.shape)\n"
   ]
  },
  {
   "cell_type": "code",
   "execution_count": 22,
   "id": "1f6e2482",
   "metadata": {
    "execution": {
     "iopub.execute_input": "2025-10-24T05:10:03.556543Z",
     "iopub.status.busy": "2025-10-24T05:10:03.556115Z",
     "iopub.status.idle": "2025-10-24T05:10:03.564225Z",
     "shell.execute_reply": "2025-10-24T05:10:03.563702Z"
    },
    "papermill": {
     "duration": 0.016481,
     "end_time": "2025-10-24T05:10:03.565290",
     "exception": false,
     "start_time": "2025-10-24T05:10:03.548809",
     "status": "completed"
    },
    "tags": []
   },
   "outputs": [],
   "source": [
    "from tensorflow.keras.models import Sequential\n",
    "from tensorflow.keras.layers import Embedding, LSTM, Dense, Dropout, Bidirectional\n",
    "from tensorflow.keras.optimizers import Adam\n"
   ]
  },
  {
   "cell_type": "code",
   "execution_count": 23,
   "id": "e1956f96",
   "metadata": {
    "execution": {
     "iopub.execute_input": "2025-10-24T05:10:03.579815Z",
     "iopub.status.busy": "2025-10-24T05:10:03.579367Z",
     "iopub.status.idle": "2025-10-24T05:10:03.841260Z",
     "shell.execute_reply": "2025-10-24T05:10:03.840408Z"
    },
    "papermill": {
     "duration": 0.270384,
     "end_time": "2025-10-24T05:10:03.842422",
     "exception": false,
     "start_time": "2025-10-24T05:10:03.572038",
     "status": "completed"
    },
    "tags": []
   },
   "outputs": [
    {
     "name": "stderr",
     "output_type": "stream",
     "text": [
      "I0000 00:00:1761282603.767176      19 gpu_device.cc:2022] Created device /job:localhost/replica:0/task:0/device:GPU:0 with 15513 MB memory:  -> device: 0, name: Tesla P100-PCIE-16GB, pci bus id: 0000:00:04.0, compute capability: 6.0\n"
     ]
    }
   ],
   "source": [
    "vocab_size = 50000  # same as tokenizer\n",
    "embedding_dim = 128\n",
    "maxlen = 300\n",
    "\n",
    "model = Sequential([\n",
    "    Embedding(vocab_size, embedding_dim),\n",
    "    Bidirectional(LSTM(128, return_sequences=False)),\n",
    "    Dropout(0.3),\n",
    "    Dense(64, activation='relu'),\n",
    "    Dropout(0.2),\n",
    "    Dense(1, activation='sigmoid')  # binary output\n",
    "])"
   ]
  },
  {
   "cell_type": "code",
   "execution_count": 24,
   "id": "55035b01",
   "metadata": {
    "execution": {
     "iopub.execute_input": "2025-10-24T05:10:03.857534Z",
     "iopub.status.busy": "2025-10-24T05:10:03.856953Z",
     "iopub.status.idle": "2025-10-24T05:10:03.883525Z",
     "shell.execute_reply": "2025-10-24T05:10:03.882992Z"
    },
    "papermill": {
     "duration": 0.035064,
     "end_time": "2025-10-24T05:10:03.884500",
     "exception": false,
     "start_time": "2025-10-24T05:10:03.849436",
     "status": "completed"
    },
    "tags": []
   },
   "outputs": [
    {
     "data": {
      "text/html": [
       "<pre style=\"white-space:pre;overflow-x:auto;line-height:normal;font-family:Menlo,'DejaVu Sans Mono',consolas,'Courier New',monospace\"><span style=\"font-weight: bold\">Model: \"sequential\"</span>\n",
       "</pre>\n"
      ],
      "text/plain": [
       "\u001b[1mModel: \"sequential\"\u001b[0m\n"
      ]
     },
     "metadata": {},
     "output_type": "display_data"
    },
    {
     "data": {
      "text/html": [
       "<pre style=\"white-space:pre;overflow-x:auto;line-height:normal;font-family:Menlo,'DejaVu Sans Mono',consolas,'Courier New',monospace\">┏━━━━━━━━━━━━━━━━━━━━━━━━━━━━━━━━━┳━━━━━━━━━━━━━━━━━━━━━━━━┳━━━━━━━━━━━━━━━┓\n",
       "┃<span style=\"font-weight: bold\"> Layer (type)                    </span>┃<span style=\"font-weight: bold\"> Output Shape           </span>┃<span style=\"font-weight: bold\">       Param # </span>┃\n",
       "┡━━━━━━━━━━━━━━━━━━━━━━━━━━━━━━━━━╇━━━━━━━━━━━━━━━━━━━━━━━━╇━━━━━━━━━━━━━━━┩\n",
       "│ embedding (<span style=\"color: #0087ff; text-decoration-color: #0087ff\">Embedding</span>)           │ ?                      │   <span style=\"color: #00af00; text-decoration-color: #00af00\">0</span> (unbuilt) │\n",
       "├─────────────────────────────────┼────────────────────────┼───────────────┤\n",
       "│ bidirectional (<span style=\"color: #0087ff; text-decoration-color: #0087ff\">Bidirectional</span>)   │ ?                      │   <span style=\"color: #00af00; text-decoration-color: #00af00\">0</span> (unbuilt) │\n",
       "├─────────────────────────────────┼────────────────────────┼───────────────┤\n",
       "│ dropout (<span style=\"color: #0087ff; text-decoration-color: #0087ff\">Dropout</span>)               │ ?                      │             <span style=\"color: #00af00; text-decoration-color: #00af00\">0</span> │\n",
       "├─────────────────────────────────┼────────────────────────┼───────────────┤\n",
       "│ dense (<span style=\"color: #0087ff; text-decoration-color: #0087ff\">Dense</span>)                   │ ?                      │   <span style=\"color: #00af00; text-decoration-color: #00af00\">0</span> (unbuilt) │\n",
       "├─────────────────────────────────┼────────────────────────┼───────────────┤\n",
       "│ dropout_1 (<span style=\"color: #0087ff; text-decoration-color: #0087ff\">Dropout</span>)             │ ?                      │             <span style=\"color: #00af00; text-decoration-color: #00af00\">0</span> │\n",
       "├─────────────────────────────────┼────────────────────────┼───────────────┤\n",
       "│ dense_1 (<span style=\"color: #0087ff; text-decoration-color: #0087ff\">Dense</span>)                 │ ?                      │   <span style=\"color: #00af00; text-decoration-color: #00af00\">0</span> (unbuilt) │\n",
       "└─────────────────────────────────┴────────────────────────┴───────────────┘\n",
       "</pre>\n"
      ],
      "text/plain": [
       "┏━━━━━━━━━━━━━━━━━━━━━━━━━━━━━━━━━┳━━━━━━━━━━━━━━━━━━━━━━━━┳━━━━━━━━━━━━━━━┓\n",
       "┃\u001b[1m \u001b[0m\u001b[1mLayer (type)                   \u001b[0m\u001b[1m \u001b[0m┃\u001b[1m \u001b[0m\u001b[1mOutput Shape          \u001b[0m\u001b[1m \u001b[0m┃\u001b[1m \u001b[0m\u001b[1m      Param #\u001b[0m\u001b[1m \u001b[0m┃\n",
       "┡━━━━━━━━━━━━━━━━━━━━━━━━━━━━━━━━━╇━━━━━━━━━━━━━━━━━━━━━━━━╇━━━━━━━━━━━━━━━┩\n",
       "│ embedding (\u001b[38;5;33mEmbedding\u001b[0m)           │ ?                      │   \u001b[38;5;34m0\u001b[0m (unbuilt) │\n",
       "├─────────────────────────────────┼────────────────────────┼───────────────┤\n",
       "│ bidirectional (\u001b[38;5;33mBidirectional\u001b[0m)   │ ?                      │   \u001b[38;5;34m0\u001b[0m (unbuilt) │\n",
       "├─────────────────────────────────┼────────────────────────┼───────────────┤\n",
       "│ dropout (\u001b[38;5;33mDropout\u001b[0m)               │ ?                      │             \u001b[38;5;34m0\u001b[0m │\n",
       "├─────────────────────────────────┼────────────────────────┼───────────────┤\n",
       "│ dense (\u001b[38;5;33mDense\u001b[0m)                   │ ?                      │   \u001b[38;5;34m0\u001b[0m (unbuilt) │\n",
       "├─────────────────────────────────┼────────────────────────┼───────────────┤\n",
       "│ dropout_1 (\u001b[38;5;33mDropout\u001b[0m)             │ ?                      │             \u001b[38;5;34m0\u001b[0m │\n",
       "├─────────────────────────────────┼────────────────────────┼───────────────┤\n",
       "│ dense_1 (\u001b[38;5;33mDense\u001b[0m)                 │ ?                      │   \u001b[38;5;34m0\u001b[0m (unbuilt) │\n",
       "└─────────────────────────────────┴────────────────────────┴───────────────┘\n"
      ]
     },
     "metadata": {},
     "output_type": "display_data"
    },
    {
     "data": {
      "text/html": [
       "<pre style=\"white-space:pre;overflow-x:auto;line-height:normal;font-family:Menlo,'DejaVu Sans Mono',consolas,'Courier New',monospace\"><span style=\"font-weight: bold\"> Total params: </span><span style=\"color: #00af00; text-decoration-color: #00af00\">0</span> (0.00 B)\n",
       "</pre>\n"
      ],
      "text/plain": [
       "\u001b[1m Total params: \u001b[0m\u001b[38;5;34m0\u001b[0m (0.00 B)\n"
      ]
     },
     "metadata": {},
     "output_type": "display_data"
    },
    {
     "data": {
      "text/html": [
       "<pre style=\"white-space:pre;overflow-x:auto;line-height:normal;font-family:Menlo,'DejaVu Sans Mono',consolas,'Courier New',monospace\"><span style=\"font-weight: bold\"> Trainable params: </span><span style=\"color: #00af00; text-decoration-color: #00af00\">0</span> (0.00 B)\n",
       "</pre>\n"
      ],
      "text/plain": [
       "\u001b[1m Trainable params: \u001b[0m\u001b[38;5;34m0\u001b[0m (0.00 B)\n"
      ]
     },
     "metadata": {},
     "output_type": "display_data"
    },
    {
     "data": {
      "text/html": [
       "<pre style=\"white-space:pre;overflow-x:auto;line-height:normal;font-family:Menlo,'DejaVu Sans Mono',consolas,'Courier New',monospace\"><span style=\"font-weight: bold\"> Non-trainable params: </span><span style=\"color: #00af00; text-decoration-color: #00af00\">0</span> (0.00 B)\n",
       "</pre>\n"
      ],
      "text/plain": [
       "\u001b[1m Non-trainable params: \u001b[0m\u001b[38;5;34m0\u001b[0m (0.00 B)\n"
      ]
     },
     "metadata": {},
     "output_type": "display_data"
    }
   ],
   "source": [
    "model.compile(\n",
    "    loss='binary_crossentropy',\n",
    "    optimizer=Adam(learning_rate=1e-3),\n",
    "    metrics=['accuracy']\n",
    ")\n",
    "\n",
    "model.summary()\n"
   ]
  },
  {
   "cell_type": "code",
   "execution_count": 25,
   "id": "96e6f709",
   "metadata": {
    "execution": {
     "iopub.execute_input": "2025-10-24T05:10:03.900258Z",
     "iopub.status.busy": "2025-10-24T05:10:03.900063Z",
     "iopub.status.idle": "2025-10-24T05:46:02.589058Z",
     "shell.execute_reply": "2025-10-24T05:46:02.588274Z"
    },
    "papermill": {
     "duration": 2159.917842,
     "end_time": "2025-10-24T05:46:03.810059",
     "exception": false,
     "start_time": "2025-10-24T05:10:03.892217",
     "status": "completed"
    },
    "tags": []
   },
   "outputs": [
    {
     "name": "stdout",
     "output_type": "stream",
     "text": [
      "Epoch 1/6\n"
     ]
    },
    {
     "name": "stderr",
     "output_type": "stream",
     "text": [
      "I0000 00:00:1761282613.461758      58 cuda_dnn.cc:529] Loaded cuDNN version 90300\n"
     ]
    },
    {
     "name": "stdout",
     "output_type": "stream",
     "text": [
      "\u001b[1m9072/9072\u001b[0m \u001b[32m━━━━━━━━━━━━━━━━━━━━\u001b[0m\u001b[37m\u001b[0m \u001b[1m370s\u001b[0m 40ms/step - accuracy: 0.7193 - loss: 0.5318 - val_accuracy: 0.9336 - val_loss: 0.1745\n",
      "Epoch 2/6\n",
      "\u001b[1m9072/9072\u001b[0m \u001b[32m━━━━━━━━━━━━━━━━━━━━\u001b[0m\u001b[37m\u001b[0m \u001b[1m359s\u001b[0m 40ms/step - accuracy: 0.9420 - loss: 0.1527 - val_accuracy: 0.9711 - val_loss: 0.0786\n",
      "Epoch 3/6\n",
      "\u001b[1m9072/9072\u001b[0m \u001b[32m━━━━━━━━━━━━━━━━━━━━\u001b[0m\u001b[37m\u001b[0m \u001b[1m358s\u001b[0m 39ms/step - accuracy: 0.9733 - loss: 0.0739 - val_accuracy: 0.9820 - val_loss: 0.0502\n",
      "Epoch 4/6\n",
      "\u001b[1m9072/9072\u001b[0m \u001b[32m━━━━━━━━━━━━━━━━━━━━\u001b[0m\u001b[37m\u001b[0m \u001b[1m358s\u001b[0m 39ms/step - accuracy: 0.9835 - loss: 0.0479 - val_accuracy: 0.9864 - val_loss: 0.0396\n",
      "Epoch 5/6\n",
      "\u001b[1m9072/9072\u001b[0m \u001b[32m━━━━━━━━━━━━━━━━━━━━\u001b[0m\u001b[37m\u001b[0m \u001b[1m358s\u001b[0m 39ms/step - accuracy: 0.9878 - loss: 0.0354 - val_accuracy: 0.9876 - val_loss: 0.0363\n",
      "Epoch 6/6\n",
      "\u001b[1m9072/9072\u001b[0m \u001b[32m━━━━━━━━━━━━━━━━━━━━\u001b[0m\u001b[37m\u001b[0m \u001b[1m355s\u001b[0m 39ms/step - accuracy: 0.9891 - loss: 0.0304 - val_accuracy: 0.9897 - val_loss: 0.0316\n"
     ]
    }
   ],
   "source": [
    "history = model.fit(\n",
    "    X_train_padded, y_train,\n",
    "    validation_data=(X_test_padded, y_test),\n",
    "    epochs=6,           \n",
    "    batch_size=32,\n",
    "    verbose=1\n",
    ")\n"
   ]
  },
  {
   "cell_type": "code",
   "execution_count": 26,
   "id": "e40898a4",
   "metadata": {
    "execution": {
     "iopub.execute_input": "2025-10-24T05:46:06.317508Z",
     "iopub.status.busy": "2025-10-24T05:46:06.317243Z",
     "iopub.status.idle": "2025-10-24T05:46:42.639765Z",
     "shell.execute_reply": "2025-10-24T05:46:42.639155Z"
    },
    "papermill": {
     "duration": 37.576816,
     "end_time": "2025-10-24T05:46:42.640902",
     "exception": false,
     "start_time": "2025-10-24T05:46:05.064086",
     "status": "completed"
    },
    "tags": []
   },
   "outputs": [
    {
     "name": "stdout",
     "output_type": "stream",
     "text": [
      "\u001b[1m2268/2268\u001b[0m \u001b[32m━━━━━━━━━━━━━━━━━━━━\u001b[0m\u001b[37m\u001b[0m \u001b[1m36s\u001b[0m 16ms/step - accuracy: 0.9892 - loss: 0.0335\n",
      "\n",
      "Test Accuracy: 98.97%\n"
     ]
    }
   ],
   "source": [
    "loss, accuracy = model.evaluate(X_test_padded, y_test)\n",
    "print(f\"\\nTest Accuracy: {accuracy*100:.2f}%\")"
   ]
  },
  {
   "cell_type": "code",
   "execution_count": 27,
   "id": "cb37ff10",
   "metadata": {
    "execution": {
     "iopub.execute_input": "2025-10-24T05:46:45.078587Z",
     "iopub.status.busy": "2025-10-24T05:46:45.078316Z",
     "iopub.status.idle": "2025-10-24T05:46:45.396896Z",
     "shell.execute_reply": "2025-10-24T05:46:45.396148Z"
    },
    "papermill": {
     "duration": 1.475015,
     "end_time": "2025-10-24T05:46:45.398220",
     "exception": false,
     "start_time": "2025-10-24T05:46:43.923205",
     "status": "completed"
    },
    "tags": []
   },
   "outputs": [
    {
     "name": "stdout",
     "output_type": "stream",
     "text": [
      "first Model Saved\n"
     ]
    }
   ],
   "source": [
    "model.save(\"human-ai-classifier-1.keras\")\n",
    "# tokenizer.save_pretrained(\"distilbert-human-ai-classifier\")\n",
    "print(\"first Model Saved\")"
   ]
  },
  {
   "cell_type": "markdown",
   "id": "5cf2bdb6",
   "metadata": {
    "papermill": {
     "duration": 1.274157,
     "end_time": "2025-10-24T05:46:47.923341",
     "exception": false,
     "start_time": "2025-10-24T05:46:46.649184",
     "status": "completed"
    },
    "tags": []
   },
   "source": [
    "# Training the Model(Second Set)"
   ]
  },
  {
   "cell_type": "code",
   "execution_count": 28,
   "id": "96f03b18",
   "metadata": {
    "execution": {
     "iopub.execute_input": "2025-10-24T05:46:50.351148Z",
     "iopub.status.busy": "2025-10-24T05:46:50.350859Z",
     "iopub.status.idle": "2025-10-24T05:47:24.436117Z",
     "shell.execute_reply": "2025-10-24T05:47:24.435389Z"
    },
    "papermill": {
     "duration": 36.603451,
     "end_time": "2025-10-24T05:47:25.682622",
     "exception": false,
     "start_time": "2025-10-24T05:46:49.079171",
     "status": "completed"
    },
    "tags": []
   },
   "outputs": [
    {
     "data": {
      "text/html": [
       "<div>\n",
       "<style scoped>\n",
       "    .dataframe tbody tr th:only-of-type {\n",
       "        vertical-align: middle;\n",
       "    }\n",
       "\n",
       "    .dataframe tbody tr th {\n",
       "        vertical-align: top;\n",
       "    }\n",
       "\n",
       "    .dataframe thead th {\n",
       "        text-align: right;\n",
       "    }\n",
       "</style>\n",
       "<table border=\"1\" class=\"dataframe\">\n",
       "  <thead>\n",
       "    <tr style=\"text-align: right;\">\n",
       "      <th></th>\n",
       "      <th>text</th>\n",
       "      <th>generated</th>\n",
       "      <th>processed_text</th>\n",
       "    </tr>\n",
       "  </thead>\n",
       "  <tbody>\n",
       "    <tr>\n",
       "      <th>0</th>\n",
       "      <td>Cars. Cars have been around since they became ...</td>\n",
       "      <td>0.0</td>\n",
       "      <td>C a r s .   C a r s   h a v e   b e e n   a r ...</td>\n",
       "    </tr>\n",
       "    <tr>\n",
       "      <th>1</th>\n",
       "      <td>Transportation is a large necessity in most co...</td>\n",
       "      <td>0.0</td>\n",
       "      <td>T r a n s p o r t a t i o n   i s   a   l a r ...</td>\n",
       "    </tr>\n",
       "    <tr>\n",
       "      <th>2</th>\n",
       "      <td>\"America's love affair with it's vehicles seem...</td>\n",
       "      <td>0.0</td>\n",
       "      <td>\" A m e r i c a ' s   l o v e   a f f a i r   ...</td>\n",
       "    </tr>\n",
       "    <tr>\n",
       "      <th>3</th>\n",
       "      <td>How often do you ride in a car? Do you drive a...</td>\n",
       "      <td>0.0</td>\n",
       "      <td>H o w   o f t e n   d o   y o u   r i d e   i ...</td>\n",
       "    </tr>\n",
       "    <tr>\n",
       "      <th>4</th>\n",
       "      <td>Cars are a wonderful thing. They are perhaps o...</td>\n",
       "      <td>0.0</td>\n",
       "      <td>C a r s   a r e   a   w o n d e r f u l   t h ...</td>\n",
       "    </tr>\n",
       "  </tbody>\n",
       "</table>\n",
       "</div>"
      ],
      "text/plain": [
       "                                                text  generated  \\\n",
       "0  Cars. Cars have been around since they became ...        0.0   \n",
       "1  Transportation is a large necessity in most co...        0.0   \n",
       "2  \"America's love affair with it's vehicles seem...        0.0   \n",
       "3  How often do you ride in a car? Do you drive a...        0.0   \n",
       "4  Cars are a wonderful thing. They are perhaps o...        0.0   \n",
       "\n",
       "                                      processed_text  \n",
       "0  C a r s .   C a r s   h a v e   b e e n   a r ...  \n",
       "1  T r a n s p o r t a t i o n   i s   a   l a r ...  \n",
       "2  \" A m e r i c a ' s   l o v e   a f f a i r   ...  \n",
       "3  H o w   o f t e n   d o   y o u   r i d e   i ...  \n",
       "4  C a r s   a r e   a   w o n d e r f u l   t h ...  "
      ]
     },
     "execution_count": 28,
     "metadata": {},
     "output_type": "execute_result"
    }
   ],
   "source": [
    "ProcessedDataSet = pd.read_csv('/kaggle/working/processed_dataset.csv')\n",
    "ProcessedDataSet.head()"
   ]
  },
  {
   "cell_type": "code",
   "execution_count": 29,
   "id": "cf80ca06",
   "metadata": {
    "execution": {
     "iopub.execute_input": "2025-10-24T05:47:28.091762Z",
     "iopub.status.busy": "2025-10-24T05:47:28.090999Z",
     "iopub.status.idle": "2025-10-24T05:47:28.185241Z",
     "shell.execute_reply": "2025-10-24T05:47:28.184465Z"
    },
    "papermill": {
     "duration": 1.368286,
     "end_time": "2025-10-24T05:47:28.186543",
     "exception": false,
     "start_time": "2025-10-24T05:47:26.818257",
     "status": "completed"
    },
    "tags": []
   },
   "outputs": [],
   "source": [
    "Data = ProcessedDataSet.copy()\n",
    "Data = Data.drop(columns=['text'])"
   ]
  },
  {
   "cell_type": "code",
   "execution_count": 30,
   "id": "3981f7ad",
   "metadata": {
    "execution": {
     "iopub.execute_input": "2025-10-24T05:47:30.584982Z",
     "iopub.status.busy": "2025-10-24T05:47:30.584674Z",
     "iopub.status.idle": "2025-10-24T05:47:30.645801Z",
     "shell.execute_reply": "2025-10-24T05:47:30.645020Z"
    },
    "papermill": {
     "duration": 1.218099,
     "end_time": "2025-10-24T05:47:30.647137",
     "exception": false,
     "start_time": "2025-10-24T05:47:29.429038",
     "status": "completed"
    },
    "tags": []
   },
   "outputs": [],
   "source": [
    "human_proces= ProcessedDataSet[ProcessedDataSet['generated'] == 0]\n",
    "ai_proces = ProcessedDataSet[ProcessedDataSet['generated'] == 1]"
   ]
  },
  {
   "cell_type": "code",
   "execution_count": 31,
   "id": "a33146e6",
   "metadata": {
    "execution": {
     "iopub.execute_input": "2025-10-24T05:47:33.135907Z",
     "iopub.status.busy": "2025-10-24T05:47:33.135299Z",
     "iopub.status.idle": "2025-10-24T05:47:33.493962Z",
     "shell.execute_reply": "2025-10-24T05:47:33.493079Z"
    },
    "papermill": {
     "duration": 1.612162,
     "end_time": "2025-10-24T05:47:33.495213",
     "exception": false,
     "start_time": "2025-10-24T05:47:31.883051",
     "status": "completed"
    },
    "tags": []
   },
   "outputs": [
    {
     "name": "stdout",
     "output_type": "stream",
     "text": [
      "Balanced data shape: (362876, 3)\n",
      "generated\n",
      "0.0    181438\n",
      "1.0    181438\n",
      "Name: count, dtype: int64\n"
     ]
    }
   ],
   "source": [
    "human_downsampled = human_proces.tail(len(ai_proces))\n",
    "\n",
    "balanced = pd.concat([human_downsampled, ai_proces]).sample(frac=1, random_state=42).reset_index(drop=True)\n",
    "\n",
    "print(\"Balanced data shape:\", balanced.shape)\n",
    "print(balanced[\"generated\"].value_counts())\n"
   ]
  },
  {
   "cell_type": "code",
   "execution_count": 32,
   "id": "826bce2e",
   "metadata": {
    "execution": {
     "iopub.execute_input": "2025-10-24T05:47:35.980100Z",
     "iopub.status.busy": "2025-10-24T05:47:35.979296Z",
     "iopub.status.idle": "2025-10-24T05:47:36.211227Z",
     "shell.execute_reply": "2025-10-24T05:47:36.210576Z"
    },
    "papermill": {
     "duration": 1.528672,
     "end_time": "2025-10-24T05:47:36.212552",
     "exception": false,
     "start_time": "2025-10-24T05:47:34.683880",
     "status": "completed"
    },
    "tags": []
   },
   "outputs": [],
   "source": [
    "X = balanced[\"processed_text\"]\n",
    "y = balanced[\"generated\"]\n",
    "\n",
    "X_train, X_test, y_train, y_test = train_test_split(\n",
    "    X, y,\n",
    "    test_size=0.2,\n",
    "    random_state=42,\n",
    "    stratify=y\n",
    ")\n"
   ]
  },
  {
   "cell_type": "code",
   "execution_count": 33,
   "id": "a00f9ad5",
   "metadata": {
    "execution": {
     "iopub.execute_input": "2025-10-24T05:47:38.642326Z",
     "iopub.status.busy": "2025-10-24T05:47:38.642052Z",
     "iopub.status.idle": "2025-10-24T05:52:18.045028Z",
     "shell.execute_reply": "2025-10-24T05:52:18.044203Z"
    },
    "papermill": {
     "duration": 281.914762,
     "end_time": "2025-10-24T05:52:19.311361",
     "exception": false,
     "start_time": "2025-10-24T05:47:37.396599",
     "status": "completed"
    },
    "tags": []
   },
   "outputs": [
    {
     "name": "stdout",
     "output_type": "stream",
     "text": [
      "Tokenization complete.\n",
      "Training set shape: (290300, 300)\n",
      "Test set shape: (72576, 300)\n"
     ]
    }
   ],
   "source": [
    "tokenizer = Tokenizer(num_words=50000, oov_token=\"<OOV>\")\n",
    "tokenizer.fit_on_texts(X_train)\n",
    "\n",
    "train_sequences = tokenizer.texts_to_sequences(X_train)\n",
    "test_sequences = tokenizer.texts_to_sequences(X_test)\n",
    "\n",
    "maxlen = 300\n",
    "X_train_padded = pad_sequences(train_sequences, maxlen=maxlen, padding='post', truncating='post')\n",
    "X_test_padded = pad_sequences(test_sequences, maxlen=maxlen, padding='post', truncating='post')\n",
    "\n",
    "y_train = np.array(y_train)\n",
    "y_test = np.array(y_test)\n",
    "\n",
    "print(\"Tokenization complete.\")\n",
    "print(\"Training set shape:\", X_train_padded.shape)\n",
    "print(\"Test set shape:\", X_test_padded.shape)\n"
   ]
  },
  {
   "cell_type": "code",
   "execution_count": 34,
   "id": "d92f7869",
   "metadata": {
    "execution": {
     "iopub.execute_input": "2025-10-24T05:52:21.689884Z",
     "iopub.status.busy": "2025-10-24T05:52:21.689333Z",
     "iopub.status.idle": "2025-10-24T05:52:21.719925Z",
     "shell.execute_reply": "2025-10-24T05:52:21.719158Z"
    },
    "papermill": {
     "duration": 1.264979,
     "end_time": "2025-10-24T05:52:21.721212",
     "exception": false,
     "start_time": "2025-10-24T05:52:20.456233",
     "status": "completed"
    },
    "tags": []
   },
   "outputs": [],
   "source": [
    "vocab_size = 50000  # same as tokenizer\n",
    "embedding_dim = 128\n",
    "maxlen = 300\n",
    "\n",
    "model = Sequential([\n",
    "    Embedding(vocab_size, embedding_dim),\n",
    "    Bidirectional(LSTM(128, return_sequences=False)),\n",
    "    Dropout(0.3),\n",
    "    Dense(64, activation='relu'),\n",
    "    Dropout(0.2),\n",
    "    Dense(1, activation='sigmoid')  # binary output\n",
    "])"
   ]
  },
  {
   "cell_type": "code",
   "execution_count": 35,
   "id": "8e6b272d",
   "metadata": {
    "execution": {
     "iopub.execute_input": "2025-10-24T05:52:24.201681Z",
     "iopub.status.busy": "2025-10-24T05:52:24.201403Z",
     "iopub.status.idle": "2025-10-24T05:52:24.272828Z",
     "shell.execute_reply": "2025-10-24T05:52:24.272224Z"
    },
    "papermill": {
     "duration": 1.311423,
     "end_time": "2025-10-24T05:52:24.273845",
     "exception": false,
     "start_time": "2025-10-24T05:52:22.962422",
     "status": "completed"
    },
    "tags": []
   },
   "outputs": [
    {
     "data": {
      "text/html": [
       "<pre style=\"white-space:pre;overflow-x:auto;line-height:normal;font-family:Menlo,'DejaVu Sans Mono',consolas,'Courier New',monospace\"><span style=\"font-weight: bold\">Model: \"sequential_1\"</span>\n",
       "</pre>\n"
      ],
      "text/plain": [
       "\u001b[1mModel: \"sequential_1\"\u001b[0m\n"
      ]
     },
     "metadata": {},
     "output_type": "display_data"
    },
    {
     "data": {
      "text/html": [
       "<pre style=\"white-space:pre;overflow-x:auto;line-height:normal;font-family:Menlo,'DejaVu Sans Mono',consolas,'Courier New',monospace\">┏━━━━━━━━━━━━━━━━━━━━━━━━━━━━━━━━━┳━━━━━━━━━━━━━━━━━━━━━━━━┳━━━━━━━━━━━━━━━┓\n",
       "┃<span style=\"font-weight: bold\"> Layer (type)                    </span>┃<span style=\"font-weight: bold\"> Output Shape           </span>┃<span style=\"font-weight: bold\">       Param # </span>┃\n",
       "┡━━━━━━━━━━━━━━━━━━━━━━━━━━━━━━━━━╇━━━━━━━━━━━━━━━━━━━━━━━━╇━━━━━━━━━━━━━━━┩\n",
       "│ embedding_1 (<span style=\"color: #0087ff; text-decoration-color: #0087ff\">Embedding</span>)         │ ?                      │   <span style=\"color: #00af00; text-decoration-color: #00af00\">0</span> (unbuilt) │\n",
       "├─────────────────────────────────┼────────────────────────┼───────────────┤\n",
       "│ bidirectional_1 (<span style=\"color: #0087ff; text-decoration-color: #0087ff\">Bidirectional</span>) │ ?                      │   <span style=\"color: #00af00; text-decoration-color: #00af00\">0</span> (unbuilt) │\n",
       "├─────────────────────────────────┼────────────────────────┼───────────────┤\n",
       "│ dropout_2 (<span style=\"color: #0087ff; text-decoration-color: #0087ff\">Dropout</span>)             │ ?                      │             <span style=\"color: #00af00; text-decoration-color: #00af00\">0</span> │\n",
       "├─────────────────────────────────┼────────────────────────┼───────────────┤\n",
       "│ dense_2 (<span style=\"color: #0087ff; text-decoration-color: #0087ff\">Dense</span>)                 │ ?                      │   <span style=\"color: #00af00; text-decoration-color: #00af00\">0</span> (unbuilt) │\n",
       "├─────────────────────────────────┼────────────────────────┼───────────────┤\n",
       "│ dropout_3 (<span style=\"color: #0087ff; text-decoration-color: #0087ff\">Dropout</span>)             │ ?                      │             <span style=\"color: #00af00; text-decoration-color: #00af00\">0</span> │\n",
       "├─────────────────────────────────┼────────────────────────┼───────────────┤\n",
       "│ dense_3 (<span style=\"color: #0087ff; text-decoration-color: #0087ff\">Dense</span>)                 │ ?                      │   <span style=\"color: #00af00; text-decoration-color: #00af00\">0</span> (unbuilt) │\n",
       "└─────────────────────────────────┴────────────────────────┴───────────────┘\n",
       "</pre>\n"
      ],
      "text/plain": [
       "┏━━━━━━━━━━━━━━━━━━━━━━━━━━━━━━━━━┳━━━━━━━━━━━━━━━━━━━━━━━━┳━━━━━━━━━━━━━━━┓\n",
       "┃\u001b[1m \u001b[0m\u001b[1mLayer (type)                   \u001b[0m\u001b[1m \u001b[0m┃\u001b[1m \u001b[0m\u001b[1mOutput Shape          \u001b[0m\u001b[1m \u001b[0m┃\u001b[1m \u001b[0m\u001b[1m      Param #\u001b[0m\u001b[1m \u001b[0m┃\n",
       "┡━━━━━━━━━━━━━━━━━━━━━━━━━━━━━━━━━╇━━━━━━━━━━━━━━━━━━━━━━━━╇━━━━━━━━━━━━━━━┩\n",
       "│ embedding_1 (\u001b[38;5;33mEmbedding\u001b[0m)         │ ?                      │   \u001b[38;5;34m0\u001b[0m (unbuilt) │\n",
       "├─────────────────────────────────┼────────────────────────┼───────────────┤\n",
       "│ bidirectional_1 (\u001b[38;5;33mBidirectional\u001b[0m) │ ?                      │   \u001b[38;5;34m0\u001b[0m (unbuilt) │\n",
       "├─────────────────────────────────┼────────────────────────┼───────────────┤\n",
       "│ dropout_2 (\u001b[38;5;33mDropout\u001b[0m)             │ ?                      │             \u001b[38;5;34m0\u001b[0m │\n",
       "├─────────────────────────────────┼────────────────────────┼───────────────┤\n",
       "│ dense_2 (\u001b[38;5;33mDense\u001b[0m)                 │ ?                      │   \u001b[38;5;34m0\u001b[0m (unbuilt) │\n",
       "├─────────────────────────────────┼────────────────────────┼───────────────┤\n",
       "│ dropout_3 (\u001b[38;5;33mDropout\u001b[0m)             │ ?                      │             \u001b[38;5;34m0\u001b[0m │\n",
       "├─────────────────────────────────┼────────────────────────┼───────────────┤\n",
       "│ dense_3 (\u001b[38;5;33mDense\u001b[0m)                 │ ?                      │   \u001b[38;5;34m0\u001b[0m (unbuilt) │\n",
       "└─────────────────────────────────┴────────────────────────┴───────────────┘\n"
      ]
     },
     "metadata": {},
     "output_type": "display_data"
    },
    {
     "data": {
      "text/html": [
       "<pre style=\"white-space:pre;overflow-x:auto;line-height:normal;font-family:Menlo,'DejaVu Sans Mono',consolas,'Courier New',monospace\"><span style=\"font-weight: bold\"> Total params: </span><span style=\"color: #00af00; text-decoration-color: #00af00\">0</span> (0.00 B)\n",
       "</pre>\n"
      ],
      "text/plain": [
       "\u001b[1m Total params: \u001b[0m\u001b[38;5;34m0\u001b[0m (0.00 B)\n"
      ]
     },
     "metadata": {},
     "output_type": "display_data"
    },
    {
     "data": {
      "text/html": [
       "<pre style=\"white-space:pre;overflow-x:auto;line-height:normal;font-family:Menlo,'DejaVu Sans Mono',consolas,'Courier New',monospace\"><span style=\"font-weight: bold\"> Trainable params: </span><span style=\"color: #00af00; text-decoration-color: #00af00\">0</span> (0.00 B)\n",
       "</pre>\n"
      ],
      "text/plain": [
       "\u001b[1m Trainable params: \u001b[0m\u001b[38;5;34m0\u001b[0m (0.00 B)\n"
      ]
     },
     "metadata": {},
     "output_type": "display_data"
    },
    {
     "data": {
      "text/html": [
       "<pre style=\"white-space:pre;overflow-x:auto;line-height:normal;font-family:Menlo,'DejaVu Sans Mono',consolas,'Courier New',monospace\"><span style=\"font-weight: bold\"> Non-trainable params: </span><span style=\"color: #00af00; text-decoration-color: #00af00\">0</span> (0.00 B)\n",
       "</pre>\n"
      ],
      "text/plain": [
       "\u001b[1m Non-trainable params: \u001b[0m\u001b[38;5;34m0\u001b[0m (0.00 B)\n"
      ]
     },
     "metadata": {},
     "output_type": "display_data"
    }
   ],
   "source": [
    "model.compile(\n",
    "    loss='binary_crossentropy',\n",
    "    optimizer=Adam(learning_rate=1e-3),\n",
    "    metrics=['accuracy']\n",
    ")\n",
    "\n",
    "model.summary()\n"
   ]
  },
  {
   "cell_type": "code",
   "execution_count": 36,
   "id": "9f7072a4",
   "metadata": {
    "execution": {
     "iopub.execute_input": "2025-10-24T05:52:26.678425Z",
     "iopub.status.busy": "2025-10-24T05:52:26.677740Z",
     "iopub.status.idle": "2025-10-24T06:27:49.376359Z",
     "shell.execute_reply": "2025-10-24T06:27:49.375590Z"
    },
    "papermill": {
     "duration": 2126.376981,
     "end_time": "2025-10-24T06:27:51.787057",
     "exception": false,
     "start_time": "2025-10-24T05:52:25.410076",
     "status": "completed"
    },
    "tags": []
   },
   "outputs": [
    {
     "name": "stdout",
     "output_type": "stream",
     "text": [
      "Epoch 1/6\n",
      "\u001b[1m9072/9072\u001b[0m \u001b[32m━━━━━━━━━━━━━━━━━━━━\u001b[0m\u001b[37m\u001b[0m \u001b[1m357s\u001b[0m 39ms/step - accuracy: 0.6512 - loss: 0.6060 - val_accuracy: 0.8837 - val_loss: 0.2757\n",
      "Epoch 2/6\n",
      "\u001b[1m9072/9072\u001b[0m \u001b[32m━━━━━━━━━━━━━━━━━━━━\u001b[0m\u001b[37m\u001b[0m \u001b[1m353s\u001b[0m 39ms/step - accuracy: 0.9145 - loss: 0.2176 - val_accuracy: 0.9671 - val_loss: 0.0892\n",
      "Epoch 3/6\n",
      "\u001b[1m9072/9072\u001b[0m \u001b[32m━━━━━━━━━━━━━━━━━━━━\u001b[0m\u001b[37m\u001b[0m \u001b[1m353s\u001b[0m 39ms/step - accuracy: 0.9670 - loss: 0.0905 - val_accuracy: 0.9806 - val_loss: 0.0555\n",
      "Epoch 4/6\n",
      "\u001b[1m9072/9072\u001b[0m \u001b[32m━━━━━━━━━━━━━━━━━━━━\u001b[0m\u001b[37m\u001b[0m \u001b[1m353s\u001b[0m 39ms/step - accuracy: 0.9822 - loss: 0.0522 - val_accuracy: 0.9831 - val_loss: 0.0480\n",
      "Epoch 5/6\n",
      "\u001b[1m9072/9072\u001b[0m \u001b[32m━━━━━━━━━━━━━━━━━━━━\u001b[0m\u001b[37m\u001b[0m \u001b[1m354s\u001b[0m 39ms/step - accuracy: 0.9875 - loss: 0.0366 - val_accuracy: 0.9860 - val_loss: 0.0396\n",
      "Epoch 6/6\n",
      "\u001b[1m9072/9072\u001b[0m \u001b[32m━━━━━━━━━━━━━━━━━━━━\u001b[0m\u001b[37m\u001b[0m \u001b[1m352s\u001b[0m 39ms/step - accuracy: 0.9894 - loss: 0.0309 - val_accuracy: 0.9875 - val_loss: 0.0356\n"
     ]
    }
   ],
   "source": [
    "history = model.fit(\n",
    "    X_train_padded, y_train,\n",
    "    validation_data=(X_test_padded, y_test),\n",
    "    epochs=6,           \n",
    "    batch_size=32,\n",
    "    verbose=1\n",
    ")\n"
   ]
  },
  {
   "cell_type": "code",
   "execution_count": 37,
   "id": "9163713e",
   "metadata": {
    "execution": {
     "iopub.execute_input": "2025-10-24T06:27:56.782121Z",
     "iopub.status.busy": "2025-10-24T06:27:56.781845Z",
     "iopub.status.idle": "2025-10-24T06:28:33.143158Z",
     "shell.execute_reply": "2025-10-24T06:28:33.142433Z"
    },
    "papermill": {
     "duration": 38.816961,
     "end_time": "2025-10-24T06:28:33.144326",
     "exception": false,
     "start_time": "2025-10-24T06:27:54.327365",
     "status": "completed"
    },
    "tags": []
   },
   "outputs": [
    {
     "name": "stdout",
     "output_type": "stream",
     "text": [
      "\u001b[1m2268/2268\u001b[0m \u001b[32m━━━━━━━━━━━━━━━━━━━━\u001b[0m\u001b[37m\u001b[0m \u001b[1m36s\u001b[0m 16ms/step - accuracy: 0.9866 - loss: 0.0382\n",
      "\n",
      "Test Accuracy: 98.75%\n"
     ]
    }
   ],
   "source": [
    "loss, accuracy = model.evaluate(X_test_padded, y_test)\n",
    "print(f\"\\nTest Accuracy: {accuracy*100:.2f}%\")"
   ]
  },
  {
   "cell_type": "code",
   "execution_count": 38,
   "id": "e701c6da",
   "metadata": {
    "execution": {
     "iopub.execute_input": "2025-10-24T06:28:38.098373Z",
     "iopub.status.busy": "2025-10-24T06:28:38.097665Z",
     "iopub.status.idle": "2025-10-24T06:28:38.409356Z",
     "shell.execute_reply": "2025-10-24T06:28:38.408534Z"
    },
    "papermill": {
     "duration": 2.808604,
     "end_time": "2025-10-24T06:28:38.410459",
     "exception": false,
     "start_time": "2025-10-24T06:28:35.601855",
     "status": "completed"
    },
    "tags": []
   },
   "outputs": [
    {
     "name": "stdout",
     "output_type": "stream",
     "text": [
      "Second Model Saved\n"
     ]
    }
   ],
   "source": [
    "model.save(\"human-ai-classifier-2.keras\")\n",
    "# tokenizer.save_pretrained(\"distilbert-human-ai-classifier\")\n",
    "print(\"Second Model Saved\")"
   ]
  }
 ],
 "metadata": {
  "kaggle": {
   "accelerator": "gpu",
   "dataSources": [
    {
     "datasetId": 4288635,
     "sourceId": 7379779,
     "sourceType": "datasetVersion"
    }
   ],
   "dockerImageVersionId": 31153,
   "isGpuEnabled": true,
   "isInternetEnabled": true,
   "language": "python",
   "sourceType": "notebook"
  },
  "kernelspec": {
   "display_name": "Python 3",
   "language": "python",
   "name": "python3"
  },
  "language_info": {
   "codemirror_mode": {
    "name": "ipython",
    "version": 3
   },
   "file_extension": ".py",
   "mimetype": "text/x-python",
   "name": "python",
   "nbconvert_exporter": "python",
   "pygments_lexer": "ipython3",
   "version": "3.11.13"
  },
  "papermill": {
   "default_parameters": {},
   "duration": 5374.545108,
   "end_time": "2025-10-24T06:28:46.470265",
   "environment_variables": {},
   "exception": null,
   "input_path": "__notebook__.ipynb",
   "output_path": "__notebook__.ipynb",
   "parameters": {},
   "start_time": "2025-10-24T04:59:11.925157",
   "version": "2.6.0"
  }
 },
 "nbformat": 4,
 "nbformat_minor": 5
}
